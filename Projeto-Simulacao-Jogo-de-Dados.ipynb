{
  "nbformat": 4,
  "nbformat_minor": 0,
  "metadata": {
    "colab": {
      "provenance": [],
      "authorship_tag": "ABX9TyMlZSoJYmBrox8MRo73QOvj",
      "include_colab_link": true
    },
    "kernelspec": {
      "name": "python3",
      "display_name": "Python 3"
    },
    "language_info": {
      "name": "python"
    }
  },
  "cells": [
    {
      "cell_type": "markdown",
      "metadata": {
        "id": "view-in-github",
        "colab_type": "text"
      },
      "source": [
        "<a href=\"https://colab.research.google.com/github/JorgeATADantas/Reposit-rio/blob/main/Projeto-Simulacao-Jogo-de-Dados.ipynb\" target=\"_parent\"><img src=\"https://colab.research.google.com/assets/colab-badge.svg\" alt=\"Open In Colab\"/></a>"
      ]
    },
    {
      "cell_type": "markdown",
      "source": [
        "**Projeto: Simulação de Jogo de Dados**\n",
        "\n",
        "Professor: Matheus Barão Fiorin\n",
        "\n",
        "Aluno    : Jorge Aliomar T A Dantas\n",
        "\n",
        "\n",
        "Projeto Santander Coders 2023 - DS\n",
        "\n",
        "**Objetivo**\n",
        "\n",
        "Você tem a tarefa de criar uma simulação para um jogo de dados. Essa simulação tem como objetivo reunir estatísticas para analisar a justiça do jogo, possíveis resultados e fazer previsões sobre jogos futuros.\n",
        "\n",
        "**Desafios do Projeto**\n",
        "\n",
        "Simulação de Dados: Crie uma função que simule o lançamento de dois dados de seis lados (valores de 1 a 6). Esta função deve retornar a soma dos resultados dos dados.\n",
        "\n",
        "Múltiplas Simulações: Use a função do passo 1 para simular um grande número de jogos de dados (digamos, 1000 jogos). Armazene o resultado de cada jogo em um array NumPy.\n",
        "\n",
        "Análise de Dados: Agora, vamos analisar os resultados desses jogos. Calcule e imprima o seguinte:\n",
        "\n",
        "A média dos resultados.\n",
        "O lançamento máximo e mínimo.\n",
        "O número de vezes que cada possível lançamento (2, 3, 4, 5, 6, 7, 8, 9, 10, 11 e 12) ocorreu.\n",
        "\n",
        "Teste de Hipótese: Agora vamos fazer um pouco de teste de hipóteses:\n",
        "Supondo um jogo justo (ou seja, todos os lançamentos são igualmente prováveis), o resultado da sua simulação coincide com essa suposição? Por que sim ou por que não?\n",
        "O que isso significa para um jogador do jogo de dados?"
      ],
      "metadata": {
        "id": "huumfU-BcRhU"
      }
    },
    {
      "cell_type": "code",
      "source": [
        "#Importação da biblioteca NumPy\n",
        "import numpy as np"
      ],
      "metadata": {
        "id": "yFZVkL-XdW7b"
      },
      "execution_count": 33,
      "outputs": []
    },
    {
      "cell_type": "code",
      "source": [
        "#Etapa 1: Simulação de Dados\n",
        "\n",
        "def simula_lancamento_dados():\n",
        "    dado1 = np.random.randint(1, 7) #jogada dado1\n",
        "    dado2 = np.random.randint(1, 7) #jogada dado2\n",
        "    dado1\n",
        "    return dado1 + dado2"
      ],
      "metadata": {
        "id": "mhDQ9Hb-cYTl"
      },
      "execution_count": 34,
      "outputs": []
    },
    {
      "cell_type": "code",
      "source": [
        "#Etapa 2: Múltiplas Simulações\n",
        "numero_jogos = np.random.randint(1000,100000) #numero de jogos que serão realizados\n",
        "\n",
        "jogadas = np.array([simula_lancamento_dados() for _ in range(numero_jogos)])"
      ],
      "metadata": {
        "id": "5kGHnkxYea0f"
      },
      "execution_count": 35,
      "outputs": []
    },
    {
      "cell_type": "code",
      "source": [
        "#Etapa 3: Análise de Dados\n",
        "#A) A média dos resultados\n",
        "resultado_media = np.mean(jogadas)"
      ],
      "metadata": {
        "id": "ewFilh1nfx4A"
      },
      "execution_count": 36,
      "outputs": []
    },
    {
      "cell_type": "code",
      "source": [
        "#Etapa 3: Análise de Dados\n",
        "#B) O lançamento máximo e mínimo\n",
        "resultado_maximo = np.max(jogadas)\n",
        "resultado_minimo = np.min(jogadas)\n"
      ],
      "metadata": {
        "id": "zoSznf0Qfpsi"
      },
      "execution_count": 37,
      "outputs": []
    },
    {
      "cell_type": "code",
      "source": [
        "#Etapa 3: Análise de Dados\n",
        "#C) O número de vezes que cada possível lançamento (2, 3, 4, 5, 6, 7, 8, 9, 10, 11 e 12)\n",
        "counts = np.bincount(jogadas)[2:]  # Ignorar contagens de 0 e 1\n",
        "\n",
        "print(f\"Total de Jogadas: {numero_jogos}\")\n",
        "print(f\"Média dos resultados: {round(resultado_media,2)}\")\n",
        "print(f\"Lançamento máximo: {resultado_maximo}\")\n",
        "print(f\"Lançamento mínimo: {resultado_minimo}\")\n",
        "\n",
        "for i, count in enumerate(counts, start = 2):\n",
        "    print(f\"Número {i} ocorreu {count} vezes.    --> {round(count/numero_jogos*100, 2)}%\")"
      ],
      "metadata": {
        "colab": {
          "base_uri": "https://localhost:8080/"
        },
        "id": "1dbdOiiFgqzh",
        "outputId": "b5b48570-60d6-4e32-a796-6af2d362d993"
      },
      "execution_count": 38,
      "outputs": [
        {
          "output_type": "stream",
          "name": "stdout",
          "text": [
            "Total de Jogadas: 32331\n",
            "Média dos resultados: 6.99\n",
            "Lançamento máximo: 12\n",
            "Lançamento mínimo: 2\n",
            "Número 2 ocorreu 861 vezes.    --> 2.66%\n",
            "Número 3 ocorreu 1832 vezes.    --> 5.67%\n",
            "Número 4 ocorreu 2694 vezes.    --> 8.33%\n",
            "Número 5 ocorreu 3525 vezes.    --> 10.9%\n",
            "Número 6 ocorreu 4661 vezes.    --> 14.42%\n",
            "Número 7 ocorreu 5368 vezes.    --> 16.6%\n",
            "Número 8 ocorreu 4478 vezes.    --> 13.85%\n",
            "Número 9 ocorreu 3574 vezes.    --> 11.05%\n",
            "Número 10 ocorreu 2730 vezes.    --> 8.44%\n",
            "Número 11 ocorreu 1752 vezes.    --> 5.42%\n",
            "Número 12 ocorreu 856 vezes.    --> 2.65%\n"
          ]
        }
      ]
    },
    {
      "cell_type": "code",
      "source": [
        "#Etapa 4: Teste de Hipoteses\n",
        "#Supondo um jogo justo (ou seja, todos os lançamentos são igualmente prováveis), o resultado da sua\n",
        "#simulação coincide com essa suposição? Por que sim ou por que não? O que isso significa para um jogador do jogo de dados?\n",
        "\n",
        "# Espaço amostral do lançamento de 2 dados\n",
        "#(1,1),(1,2),(1,3),(1,4),(1,5),(1,6),(2,2),(2,3),(2,4),(2,5),(2,6),(3,3),(3,4),(3,5),(3,6),(4,4),(4,5),(4,6),(5,5),(5,6),(6,6) = 21 possibilidades\n",
        "#      (2,1),(3,1),(4,1),(5,1),(6,1),      (3,2),(4,2),(5,2),(6,2),      (4,3),(5,3),(6,3),      (5,4),(6,4),      (6,5)       = 15 possibilidades\n",
        "\n",
        "# Possibilidades de soma 2  = (1,1)                                      = 1/36 = 2,78%\n",
        "# Possibilidades de soma 3  = (1,2), (2,1)                               = 2/36 = 5,56%\n",
        "# Possibilidades de soma 4  = (1,3), (2,2), (3,1)                        = 3/36 = 8,33%\n",
        "# Possibilidades de soma 5  = (1,4), (2,3), (4,1), (3,2)                 = 4/36 = 11,11%\n",
        "# Possibilidades de soma 6  = (1,5), (2,4), (3,3), (5,1), (4,2)          = 5/36 = 13,89%\n",
        "# Possibilidades de soma 7  = (1,6), (2,5), (3,4), (6,1), (5,2), (4,3)   = 6/36 = 16,67%\n",
        "# Possibilidades de soma 8  = (2,6), (3,5), (4,4), (6,2), (5,3)          = 5/36 = 13,89%\n",
        "# Possibilidades de soma 9  = (3,6), (4,5), (6,3), (5,4)                 = 4/36 = 11,11%\n",
        "# Possibilidades de soma 10 = (4,6), (5,5), (6,4)                        = 3/36 = 8,33%\n",
        "# Possibilidades de soma 11 = (5,6),  (6,5)                              = 2/36 = 5,56%\n",
        "# Possibilidades de soma 12 = (6,6)                                      = 1/36 = 2,78%\n",
        "\n",
        "\n",
        "#Como base no exposto podemos inferir que o resultado da simulação está de acordo com um jogo justo, pois os valores provaveis se distribuem de\n",
        "#forma semelhante, tendo sua distribuição normal. Para um jogador de dados as soma 7 (ver também média = 6,99) é o que possui maior probabilidade de sair, seguidos dos\n",
        "#somas 6 e 8, 5 e 9, 4 e 10, 3 e 11, e por fim 2 e 12"
      ],
      "metadata": {
        "id": "1Qzp-XUlhx9C"
      },
      "execution_count": 39,
      "outputs": []
    },
    {
      "cell_type": "code",
      "source": [],
      "metadata": {
        "id": "ylsGfOjSgIy0"
      },
      "execution_count": 39,
      "outputs": []
    }
  ]
}