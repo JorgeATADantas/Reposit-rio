{
  "nbformat": 4,
  "nbformat_minor": 0,
  "metadata": {
    "colab": {
      "provenance": [],
      "authorship_tag": "ABX9TyOGMbFUGOkubkXIXfF8gBgr"
    },
    "kernelspec": {
      "name": "python3",
      "display_name": "Python 3"
    },
    "language_info": {
      "name": "python"
    }
  },
  "cells": [
    {
      "cell_type": "markdown",
      "source": [
        "**Projeto: Simulação de Jogo de Dados**\n",
        "\n",
        "Professor: Matheus Barão Fiorin\n",
        "\n",
        "Aluno    : Jorge Aliomar T A Dantas\n",
        "\n",
        "\n",
        "Projeto Santander Coders 2023 - DS\n",
        "\n",
        "**Objetivo**\n",
        "\n",
        "Você tem a tarefa de criar uma simulação para um jogo de dados. Essa simulação tem como objetivo reunir estatísticas para analisar a justiça do jogo, possíveis resultados e fazer previsões sobre jogos futuros.\n",
        "\n",
        "**Desafios do Projeto**\n",
        "\n",
        "Simulação de Dados: Crie uma função que simule o lançamento de dois dados de seis lados (valores de 1 a 6). Esta função deve retornar a soma dos resultados dos dados.\n",
        "\n",
        "Múltiplas Simulações: Use a função do passo 1 para simular um grande número de jogos de dados (digamos, 1000 jogos). Armazene o resultado de cada jogo em um array NumPy.\n",
        "\n",
        "Análise de Dados: Agora, vamos analisar os resultados desses jogos. Calcule e imprima o seguinte:\n",
        "\n",
        "A média dos resultados.\n",
        "O lançamento máximo e mínimo.\n",
        "O número de vezes que cada possível lançamento (2, 3, 4, 5, 6, 7, 8, 9, 10, 11 e 12) ocorreu.\n",
        "\n",
        "Teste de Hipótese: Agora vamos fazer um pouco de teste de hipóteses:\n",
        "Supondo um jogo justo (ou seja, todos os lançamentos são igualmente prováveis), o resultado da sua simulação coincide com essa suposição? Por que sim ou por que não?\n",
        "O que isso significa para um jogador do jogo de dados?"
      ],
      "metadata": {
        "id": "huumfU-BcRhU"
      }
    },
    {
      "cell_type": "code",
      "source": [
        "#Importação da biblioteca NumPy\n",
        "import numpy as np"
      ],
      "metadata": {
        "id": "yFZVkL-XdW7b"
      },
      "execution_count": 2,
      "outputs": []
    },
    {
      "cell_type": "code",
      "source": [
        "#Etapa 1: Simulação de Dados\n",
        "\n",
        "def simula_lancamento_dados():\n",
        "    dado1 = np.random.randint(1, 7) #jogada dado1\n",
        "    dado2 = np.random.randint(1, 7) #jogada dado2\n",
        "    dado1\n",
        "    return dado1 + dado2"
      ],
      "metadata": {
        "id": "mhDQ9Hb-cYTl"
      },
      "execution_count": 4,
      "outputs": []
    },
    {
      "cell_type": "code",
      "source": [
        "#Etapa 2: Múltiplas Simulações\n",
        "numero_jogos = np.random.randint(1000,100000) #numero de jogos que serão realizados\n",
        "\n",
        "jogadas = np.array([simula_lancamento_dados() for _ in range(numero_jogos)])"
      ],
      "metadata": {
        "id": "5kGHnkxYea0f"
      },
      "execution_count": 13,
      "outputs": []
    },
    {
      "cell_type": "code",
      "source": [
        "#Etapa 3: Análise de Dados\n",
        "#A) A média dos resultados\n",
        "resultado_media = np.mean(jogadas)"
      ],
      "metadata": {
        "id": "ewFilh1nfx4A"
      },
      "execution_count": 16,
      "outputs": []
    },
    {
      "cell_type": "code",
      "source": [
        "#Etapa 3: Análise de Dados\n",
        "#B) O lançamento máximo e mínimo\n",
        "resultado_maximo = np.max(jogadas)\n",
        "resultado_minimo = np.min(jogadas)\n"
      ],
      "metadata": {
        "id": "zoSznf0Qfpsi"
      },
      "execution_count": 17,
      "outputs": []
    },
    {
      "cell_type": "code",
      "source": [
        "#Etapa 3: Análise de Dados\n",
        "#C) O número de vezes que cada possível lançamento (2, 3, 4, 5, 6, 7, 8, 9, 10, 11 e 12)\n",
        "counts = np.bincount(jogadas)[2:]  # Ignorar contagens de 0 e 1\n",
        "\n",
        "for i, count in enumerate(counts, start=2):\n",
        "    print(f\"Número {i} ocorreu {count} vezes.\")\n",
        "\n",
        "print(f\"Média dos resultados: {resultado_media}\")\n",
        "print(f\"Lançamento máximo: {resultado_maximo}\")\n",
        "print(f\"Lançamento mínimo: {resultado_minimo}\")"
      ],
      "metadata": {
        "colab": {
          "base_uri": "https://localhost:8080/"
        },
        "id": "1dbdOiiFgqzh",
        "outputId": "94f73920-9a81-4e00-b15b-8b2b9ac402dc"
      },
      "execution_count": 18,
      "outputs": [
        {
          "output_type": "stream",
          "name": "stdout",
          "text": [
            "Número 2 ocorreu 241 vezes.\n",
            "Número 3 ocorreu 511 vezes.\n",
            "Número 4 ocorreu 773 vezes.\n",
            "Número 5 ocorreu 1023 vezes.\n",
            "Número 6 ocorreu 1322 vezes.\n",
            "Número 7 ocorreu 1511 vezes.\n",
            "Número 8 ocorreu 1237 vezes.\n",
            "Número 9 ocorreu 960 vezes.\n",
            "Número 10 ocorreu 758 vezes.\n",
            "Número 11 ocorreu 532 vezes.\n",
            "Número 12 ocorreu 262 vezes.\n",
            "Média dos resultados: 6.992661555312158\n",
            "Lançamento máximo: 12\n",
            "Lançamento mínimo: 2\n"
          ]
        }
      ]
    },
    {
      "cell_type": "code",
      "source": [],
      "metadata": {
        "id": "1Qzp-XUlhx9C"
      },
      "execution_count": null,
      "outputs": []
    }
  ]
}